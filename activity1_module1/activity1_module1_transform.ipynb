{
 "cells": [
  {
   "cell_type": "code",
   "execution_count": 2,
   "metadata": {},
   "outputs": [],
   "source": [
    "import pandas as pd\n",
    "import numpy as np\n",
    "import zipfile\n",
    "import requests\n",
    "from io import BytesIO\n",
    "import os"
   ]
  },
  {
   "cell_type": "code",
   "execution_count": 8,
   "metadata": {},
   "outputs": [],
   "source": [
    "enem_mg = pd.read_csv(\n",
    "    \"./enem2019/enem_mg/enem_mg.csv\",\n",
    "    sep=\";\", encoding='ISO-8859-1'\n",
    ")"
   ]
  },
  {
   "cell_type": "markdown",
   "metadata": {},
   "source": [
    "## Perguntas"
   ]
  },
  {
   "cell_type": "code",
   "execution_count": 9,
   "metadata": {},
   "outputs": [
    {
     "data": {
      "text/plain": [
       "548.2748275910225"
      ]
     },
     "execution_count": 9,
     "metadata": {},
     "output_type": "execute_result"
    }
   ],
   "source": [
    "# Qual é a média da nota em matemática de todos os alunos mineiros?\n",
    "\n",
    "enem_mg.loc[\n",
    "    (enem_mg.SG_UF_RESIDENCIA=='MG'),\n",
    "    'NU_NOTA_MT'\n",
    "].mean()"
   ]
  },
  {
   "cell_type": "code",
   "execution_count": 11,
   "metadata": {},
   "outputs": [
    {
     "data": {
      "text/plain": [
       "531.8318645850767"
      ]
     },
     "execution_count": 11,
     "metadata": {},
     "output_type": "execute_result"
    }
   ],
   "source": [
    "# Qual é a média da nota em Linguagens e Códigos de todos os alunos mineiros?\n",
    "enem_mg.loc[\n",
    "    (enem_mg.SG_UF_RESIDENCIA=='MG'),\n",
    "    'NU_NOTA_LC'\n",
    "].mean()"
   ]
  },
  {
   "cell_type": "code",
   "execution_count": 12,
   "metadata": {},
   "outputs": [
    {
     "data": {
      "text/plain": [
       "516.0920536871472"
      ]
     },
     "execution_count": 12,
     "metadata": {},
     "output_type": "execute_result"
    }
   ],
   "source": [
    "# Qual é a média da nota em Ciências Humanas dos alunos do sexo FEMININO mineiros?\n",
    "enem_mg.loc[\n",
    "    (enem_mg.SG_UF_RESIDENCIA=='MG') &\n",
    "    (enem_mg.TP_SEXO=='F'),\n",
    "    'NU_NOTA_CH'\n",
    "].mean()"
   ]
  },
  {
   "cell_type": "code",
   "execution_count": 14,
   "metadata": {},
   "outputs": [
    {
     "data": {
      "text/plain": [
       "530.1893064477115"
      ]
     },
     "execution_count": 14,
     "metadata": {},
     "output_type": "execute_result"
    }
   ],
   "source": [
    "# Qual é a média da nota em Ciências Humanas dos alunos do sexo MASCULINO?\n",
    "enem_mg.loc[\n",
    "    (enem_mg.SG_UF_RESIDENCIA=='MG') &\n",
    "    (enem_mg.TP_SEXO=='M'),\n",
    "    'NU_NOTA_CH'\n",
    "].mean()"
   ]
  },
  {
   "cell_type": "code",
   "execution_count": 16,
   "metadata": {},
   "outputs": [
    {
     "data": {
      "text/plain": [
       "527.1649582330454"
      ]
     },
     "execution_count": 16,
     "metadata": {},
     "output_type": "execute_result"
    }
   ],
   "source": [
    "# Qual é a média da nota em Matemática dos alunos do sexo FEMININO que moram na cidade de Montes Claros?\n",
    "enem_mg.loc[\n",
    "    (enem_mg.SG_UF_RESIDENCIA=='MG') &\n",
    "    (enem_mg.TP_SEXO=='F')&\n",
    "    (enem_mg.NO_MUNICIPIO_RESIDENCIA == 'Montes Claros'),\n",
    "    'NU_NOTA_MT'\n",
    "].mean()"
   ]
  },
  {
   "cell_type": "code",
   "execution_count": 17,
   "metadata": {},
   "outputs": [
    {
     "data": {
      "text/plain": [
       "545.8697916666666"
      ]
     },
     "execution_count": 17,
     "metadata": {},
     "output_type": "execute_result"
    }
   ],
   "source": [
    "#Qual é a média da nota em Matemática dos alunos do município de Sabará que possuem TV por assinatura na residência?\n",
    "enem_mg.loc[\n",
    "    (enem_mg.SG_UF_RESIDENCIA=='MG') &\n",
    "    (enem_mg.Q021=='B')&\n",
    "    (enem_mg.NO_MUNICIPIO_RESIDENCIA == 'Sabará'),\n",
    "    'NU_NOTA_MT'\n",
    "].mean()"
   ]
  },
  {
   "cell_type": "code",
   "execution_count": 18,
   "metadata": {},
   "outputs": [
    {
     "data": {
      "text/plain": [
       "558.2007418397626"
      ]
     },
     "execution_count": 18,
     "metadata": {},
     "output_type": "execute_result"
    }
   ],
   "source": [
    "#Qual é a média da nota em Ciências Humanas dos alunos mineiros que possuem dois fornos micro-ondas em casa?\n",
    "enem_mg.loc[\n",
    "    (enem_mg.SG_UF_RESIDENCIA=='MG') &\n",
    "    (enem_mg.Q016=='C'),\n",
    "    'NU_NOTA_CH'\n",
    "].mean()"
   ]
  },
  {
   "cell_type": "code",
   "execution_count": 19,
   "metadata": {},
   "outputs": [
    {
     "data": {
      "text/plain": [
       "620.395982741838"
      ]
     },
     "execution_count": 19,
     "metadata": {},
     "output_type": "execute_result"
    }
   ],
   "source": [
    "#Qual é a nota média em Matemática dos alunos mineiros cuja mãe completou a pós-graduação?\n",
    "enem_mg.loc[\n",
    "    (enem_mg.SG_UF_RESIDENCIA=='MG') &\n",
    "    (enem_mg.Q002=='G'),\n",
    "    'NU_NOTA_MT'\n",
    "].mean()"
   ]
  },
  {
   "cell_type": "code",
   "execution_count": 21,
   "metadata": {},
   "outputs": [
    {
     "data": {
      "text/plain": [
       "579.0674861652908"
      ]
     },
     "execution_count": 21,
     "metadata": {},
     "output_type": "execute_result"
    }
   ],
   "source": [
    "#Qual é a nota média em Ciências Humanas dos alunos mineiros que moram sozinhos?\n",
    "enem_mg.loc[\n",
    "    enem_mg.NO_MUNICIPIO_RESIDENCIA.isin(['Conselheiro Lafaiete','Belo Horizonte']),\n",
    "    'NU_NOTA_MT'\n",
    "].mean()"
   ]
  },
  {
   "cell_type": "code",
   "execution_count": 23,
   "metadata": {},
   "outputs": [
    {
     "data": {
      "text/plain": [
       "586.5224609375"
      ]
     },
     "execution_count": 23,
     "metadata": {},
     "output_type": "execute_result"
    }
   ],
   "source": [
    "#Qual é a nota média em Ciências Humanas dos alunos mineiros cujo pai completou Pós graduação e possuem renda familiar entre R$ 8.982,01 e R$ 9.980,00.\n",
    "enem_mg.loc[\n",
    "    (enem_mg.SG_UF_RESIDENCIA=='MG') &\n",
    "    (enem_mg.Q001=='G') &\n",
    "    (enem_mg.Q006=='M'),\n",
    "    'NU_NOTA_CH'\n",
    "].mean()"
   ]
  },
  {
   "cell_type": "code",
   "execution_count": 24,
   "metadata": {},
   "outputs": [
    {
     "data": {
      "text/plain": [
       "510.2079283887468"
      ]
     },
     "execution_count": 24,
     "metadata": {},
     "output_type": "execute_result"
    }
   ],
   "source": [
    "#Qual é a nota média em Matemática dos alunos do sexo Feminino que moram em Lavras e escolheram “Espanhol” como língua estrangeira?\n",
    "enem_mg.loc[\n",
    "    (enem_mg.SG_UF_RESIDENCIA=='MG') &\n",
    "    (enem_mg.NO_MUNICIPIO_RESIDENCIA == 'Lavras') &\n",
    "    (enem_mg.TP_SEXO=='F')&\n",
    "    (enem_mg.TP_LINGUA == 1),\n",
    "    'NU_NOTA_MT'\n",
    "].mean()"
   ]
  },
  {
   "cell_type": "code",
   "execution_count": 26,
   "metadata": {},
   "outputs": [
    {
     "data": {
      "text/plain": [
       "433.87093023255807"
      ]
     },
     "execution_count": 26,
     "metadata": {},
     "output_type": "execute_result"
    }
   ],
   "source": [
    "# Qual é a nota média em Ciências Humanas dos alunos surdos?\n",
    "enem_mg.loc[\n",
    "    (enem_mg.SG_UF_RESIDENCIA=='MG') &\n",
    "    (enem_mg.IN_SURDEZ == 1),\n",
    "    'NU_NOTA_CH'\n",
    "].mean()"
   ]
  },
  {
   "cell_type": "code",
   "execution_count": 28,
   "metadata": {},
   "outputs": [
    {
     "data": {
      "text/plain": [
       "568.975"
      ]
     },
     "execution_count": 28,
     "metadata": {},
     "output_type": "execute_result"
    }
   ],
   "source": [
    "# Qual é a nota média em Matemática dos alunos do sexo FEMININO, que moram em Belo Horizonte, Sabará, Nova Lima e Betim e possuem dislexia?\n",
    "enem_mg.query(\"TP_SEXO == 'F' and NO_MUNICIPIO_RESIDENCIA in ('Belo Horizonte', 'Sabará', 'Nova Lima', 'Betim') and IN_DISLEXIA == 1\")['NU_NOTA_MT'].mean()"
   ]
  }
 ],
 "metadata": {
  "kernelspec": {
   "display_name": "Python 3",
   "language": "python",
   "name": "python3"
  },
  "language_info": {
   "codemirror_mode": {
    "name": "ipython",
    "version": 3
   },
   "file_extension": ".py",
   "mimetype": "text/x-python",
   "name": "python",
   "nbconvert_exporter": "python",
   "pygments_lexer": "ipython3",
   "version": "3.6.9"
  }
 },
 "nbformat": 4,
 "nbformat_minor": 4
}
